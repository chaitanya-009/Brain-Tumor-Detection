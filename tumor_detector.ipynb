{
 "cells": [
  {
   "cell_type": "code",
   "execution_count": null,
   "id": "064acaa7-5df5-4abf-897f-7d9c2d4966b6",
   "metadata": {},
   "outputs": [],
   "source": [
    "import tensorflow as tf\n",
    "import numpy as np\n",
    "from tkinter import filedialog\n",
    "from tensorflow.keras.preprocessing import image\n",
    "\n",
    "# Load the trained model\n",
    "model = tf.keras.models.load_model('brain_tumor_detector.keras')\n",
    "\n",
    "# Function to preprocess input image\n",
    "def preprocess_image(image_path):\n",
    "    img = image.load_img(image_path, target_size=(150, 150))\n",
    "    img_array = image.img_to_array(img)\n",
    "    img_array = np.expand_dims(img_array, axis=0)\n",
    "    return img_array / 255.0  # Normalization\n",
    "\n",
    "# Function to predict\n",
    "def predict_image(image_path):\n",
    "    img = preprocess_image(image_path)\n",
    "    prediction = model.predict(img)\n",
    "    if prediction[0] > 0.5:\n",
    "        return \"Tumor detected\"\n",
    "    else:\n",
    "        return \"No tumor detected\"\n",
    "\n",
    "# Example usage\n",
    "image_path = image_path = filedialog.askopenfilename()\n",
    "prediction = predict_image(image_path)\n",
    "print(prediction)\n",
    "\n"
   ]
  }
 ],
 "metadata": {
  "kernelspec": {
   "display_name": "Python 3 (ipykernel)",
   "language": "python",
   "name": "python3"
  },
  "language_info": {
   "codemirror_mode": {
    "name": "ipython",
    "version": 3
   },
   "file_extension": ".py",
   "mimetype": "text/x-python",
   "name": "python",
   "nbconvert_exporter": "python",
   "pygments_lexer": "ipython3",
   "version": "3.12.3"
  }
 },
 "nbformat": 4,
 "nbformat_minor": 5
}
